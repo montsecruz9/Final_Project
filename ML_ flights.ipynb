{
 "cells": [
  {
   "cell_type": "code",
   "execution_count": 15,
   "id": "6ae71d7d",
   "metadata": {},
   "outputs": [],
   "source": [
    "# Import dependencies\n",
    "import numpy as np\n",
    "import pandas as pd\n",
    "from collections import Counter\n",
    "\n",
    "from sklearn.metrics import balanced_accuracy_score\n",
    "from sklearn.metrics import confusion_matrix\n",
    "from imblearn.metrics import classification_report_imbalanced\n"
   ]
  },
  {
   "cell_type": "code",
   "execution_count": 22,
   "id": "ac1f9b1f",
   "metadata": {
    "scrolled": true
   },
   "outputs": [
    {
     "data": {
      "text/html": [
       "<div>\n",
       "<style scoped>\n",
       "    .dataframe tbody tr th:only-of-type {\n",
       "        vertical-align: middle;\n",
       "    }\n",
       "\n",
       "    .dataframe tbody tr th {\n",
       "        vertical-align: top;\n",
       "    }\n",
       "\n",
       "    .dataframe thead th {\n",
       "        text-align: right;\n",
       "    }\n",
       "</style>\n",
       "<table border=\"1\" class=\"dataframe\">\n",
       "  <thead>\n",
       "    <tr style=\"text-align: right;\">\n",
       "      <th></th>\n",
       "      <th>Unnamed: 0</th>\n",
       "      <th>Year</th>\n",
       "      <th>Month</th>\n",
       "      <th>DayofMonth</th>\n",
       "      <th>DayOfWeek</th>\n",
       "      <th>Airline</th>\n",
       "      <th>Origin</th>\n",
       "      <th>OriginCityName</th>\n",
       "      <th>Dest</th>\n",
       "      <th>DestCityName</th>\n",
       "      <th>...</th>\n",
       "      <th>Cancelled</th>\n",
       "      <th>CancellationCode</th>\n",
       "      <th>CRSElapsedTime</th>\n",
       "      <th>ActualElapsedTime</th>\n",
       "      <th>CarrierDelay</th>\n",
       "      <th>WeatherDelay</th>\n",
       "      <th>NASDelay</th>\n",
       "      <th>SecurityDelay</th>\n",
       "      <th>LateAircraftDelay</th>\n",
       "      <th>FirstDepTime</th>\n",
       "    </tr>\n",
       "  </thead>\n",
       "  <tbody>\n",
       "    <tr>\n",
       "      <th>0</th>\n",
       "      <td>0</td>\n",
       "      <td>2021</td>\n",
       "      <td>1</td>\n",
       "      <td>2</td>\n",
       "      <td>6</td>\n",
       "      <td>Delta Air Lines Inc.</td>\n",
       "      <td>CVG</td>\n",
       "      <td>Cincinnati, OH</td>\n",
       "      <td>BOS</td>\n",
       "      <td>Boston, MA</td>\n",
       "      <td>...</td>\n",
       "      <td>0.0</td>\n",
       "      <td>NaN</td>\n",
       "      <td>129.0</td>\n",
       "      <td>114.0</td>\n",
       "      <td>NaN</td>\n",
       "      <td>NaN</td>\n",
       "      <td>NaN</td>\n",
       "      <td>NaN</td>\n",
       "      <td>NaN</td>\n",
       "      <td>NaN</td>\n",
       "    </tr>\n",
       "    <tr>\n",
       "      <th>1</th>\n",
       "      <td>1</td>\n",
       "      <td>2021</td>\n",
       "      <td>1</td>\n",
       "      <td>3</td>\n",
       "      <td>7</td>\n",
       "      <td>Delta Air Lines Inc.</td>\n",
       "      <td>CVG</td>\n",
       "      <td>Cincinnati, OH</td>\n",
       "      <td>BOS</td>\n",
       "      <td>Boston, MA</td>\n",
       "      <td>...</td>\n",
       "      <td>0.0</td>\n",
       "      <td>NaN</td>\n",
       "      <td>129.0</td>\n",
       "      <td>117.0</td>\n",
       "      <td>NaN</td>\n",
       "      <td>NaN</td>\n",
       "      <td>NaN</td>\n",
       "      <td>NaN</td>\n",
       "      <td>NaN</td>\n",
       "      <td>NaN</td>\n",
       "    </tr>\n",
       "    <tr>\n",
       "      <th>2</th>\n",
       "      <td>2</td>\n",
       "      <td>2021</td>\n",
       "      <td>1</td>\n",
       "      <td>4</td>\n",
       "      <td>1</td>\n",
       "      <td>Delta Air Lines Inc.</td>\n",
       "      <td>CVG</td>\n",
       "      <td>Cincinnati, OH</td>\n",
       "      <td>BOS</td>\n",
       "      <td>Boston, MA</td>\n",
       "      <td>...</td>\n",
       "      <td>0.0</td>\n",
       "      <td>NaN</td>\n",
       "      <td>129.0</td>\n",
       "      <td>121.0</td>\n",
       "      <td>NaN</td>\n",
       "      <td>NaN</td>\n",
       "      <td>NaN</td>\n",
       "      <td>NaN</td>\n",
       "      <td>NaN</td>\n",
       "      <td>NaN</td>\n",
       "    </tr>\n",
       "    <tr>\n",
       "      <th>3</th>\n",
       "      <td>3</td>\n",
       "      <td>2021</td>\n",
       "      <td>1</td>\n",
       "      <td>7</td>\n",
       "      <td>4</td>\n",
       "      <td>Delta Air Lines Inc.</td>\n",
       "      <td>CVG</td>\n",
       "      <td>Cincinnati, OH</td>\n",
       "      <td>BOS</td>\n",
       "      <td>Boston, MA</td>\n",
       "      <td>...</td>\n",
       "      <td>0.0</td>\n",
       "      <td>NaN</td>\n",
       "      <td>117.0</td>\n",
       "      <td>121.0</td>\n",
       "      <td>NaN</td>\n",
       "      <td>NaN</td>\n",
       "      <td>NaN</td>\n",
       "      <td>NaN</td>\n",
       "      <td>NaN</td>\n",
       "      <td>NaN</td>\n",
       "    </tr>\n",
       "    <tr>\n",
       "      <th>4</th>\n",
       "      <td>4</td>\n",
       "      <td>2021</td>\n",
       "      <td>1</td>\n",
       "      <td>8</td>\n",
       "      <td>5</td>\n",
       "      <td>Delta Air Lines Inc.</td>\n",
       "      <td>CVG</td>\n",
       "      <td>Cincinnati, OH</td>\n",
       "      <td>BOS</td>\n",
       "      <td>Boston, MA</td>\n",
       "      <td>...</td>\n",
       "      <td>0.0</td>\n",
       "      <td>NaN</td>\n",
       "      <td>117.0</td>\n",
       "      <td>135.0</td>\n",
       "      <td>NaN</td>\n",
       "      <td>NaN</td>\n",
       "      <td>NaN</td>\n",
       "      <td>NaN</td>\n",
       "      <td>NaN</td>\n",
       "      <td>NaN</td>\n",
       "    </tr>\n",
       "  </tbody>\n",
       "</table>\n",
       "<p>5 rows × 25 columns</p>\n",
       "</div>"
      ],
      "text/plain": [
       "   Unnamed: 0  Year  Month  DayofMonth  DayOfWeek               Airline  \\\n",
       "0           0  2021      1           2          6  Delta Air Lines Inc.   \n",
       "1           1  2021      1           3          7  Delta Air Lines Inc.   \n",
       "2           2  2021      1           4          1  Delta Air Lines Inc.   \n",
       "3           3  2021      1           7          4  Delta Air Lines Inc.   \n",
       "4           4  2021      1           8          5  Delta Air Lines Inc.   \n",
       "\n",
       "  Origin  OriginCityName Dest DestCityName  ...  Cancelled  CancellationCode  \\\n",
       "0    CVG  Cincinnati, OH  BOS   Boston, MA  ...        0.0               NaN   \n",
       "1    CVG  Cincinnati, OH  BOS   Boston, MA  ...        0.0               NaN   \n",
       "2    CVG  Cincinnati, OH  BOS   Boston, MA  ...        0.0               NaN   \n",
       "3    CVG  Cincinnati, OH  BOS   Boston, MA  ...        0.0               NaN   \n",
       "4    CVG  Cincinnati, OH  BOS   Boston, MA  ...        0.0               NaN   \n",
       "\n",
       "   CRSElapsedTime  ActualElapsedTime  CarrierDelay  WeatherDelay NASDelay  \\\n",
       "0           129.0              114.0           NaN           NaN      NaN   \n",
       "1           129.0              117.0           NaN           NaN      NaN   \n",
       "2           129.0              121.0           NaN           NaN      NaN   \n",
       "3           117.0              121.0           NaN           NaN      NaN   \n",
       "4           117.0              135.0           NaN           NaN      NaN   \n",
       "\n",
       "   SecurityDelay  LateAircraftDelay  FirstDepTime  \n",
       "0            NaN                NaN           NaN  \n",
       "1            NaN                NaN           NaN  \n",
       "2            NaN                NaN           NaN  \n",
       "3            NaN                NaN           NaN  \n",
       "4            NaN                NaN           NaN  \n",
       "\n",
       "[5 rows x 25 columns]"
      ]
     },
     "execution_count": 22,
     "metadata": {},
     "output_type": "execute_result"
    }
   ],
   "source": [
    "\n",
    "#  Import and read the flights_data.csv.\n",
    "flights_df = pd.read_csv(\"flights_data_df.csv\")\n",
    "flights_df.head()\n"
   ]
  },
  {
   "cell_type": "markdown",
   "id": "b6ef7d2c",
   "metadata": {},
   "source": [
    "### Data Preprocessing"
   ]
  },
  {
   "cell_type": "code",
   "execution_count": 26,
   "id": "15f7d841",
   "metadata": {},
   "outputs": [],
   "source": [
    "# Creating 'Is_Delayed' column that will tell us if a flight is delayed or not. \n",
    "flights_df[\"Is_Delayed\"] = None\n",
    "flights_df.loc[flights_df[\"DepDelayMinutes\"] == 0, \"Is_Delayed\"] = \"Not_Delayed\"\n",
    "flights_df.loc[flights_df[\"DepDelayMinutes\"] > 0, \"Is_Delayed\"] = \"Delayed\"\n"
   ]
  },
  {
   "cell_type": "code",
   "execution_count": 27,
   "id": "bc8a9b2e",
   "metadata": {},
   "outputs": [],
   "source": [
    "# cutting out a segment for the model\n",
    "flights_df = flights_df[0:1000000]"
   ]
  },
  {
   "cell_type": "code",
   "execution_count": 28,
   "id": "b7bca6a4",
   "metadata": {},
   "outputs": [],
   "source": [
    "# Filling NaN values\n",
    "flights_df.fillna(0, inplace=True)"
   ]
  },
  {
   "cell_type": "code",
   "execution_count": 29,
   "id": "799b415c",
   "metadata": {},
   "outputs": [
    {
     "data": {
      "text/plain": [
       "Airline             object\n",
       "Origin              object\n",
       "OriginCityName      object\n",
       "Dest                object\n",
       "DestCityName        object\n",
       "CancellationCode    object\n",
       "Is_Delayed          object\n",
       "dtype: object"
      ]
     },
     "execution_count": 29,
     "metadata": {},
     "output_type": "execute_result"
    }
   ],
   "source": [
    "# Checking out dtypes\n",
    "flights_df.dtypes[flights_df.dtypes == 'O']"
   ]
  },
  {
   "cell_type": "code",
   "execution_count": 30,
   "id": "35c99370",
   "metadata": {},
   "outputs": [
    {
     "data": {
      "text/html": [
       "<div>\n",
       "<style scoped>\n",
       "    .dataframe tbody tr th:only-of-type {\n",
       "        vertical-align: middle;\n",
       "    }\n",
       "\n",
       "    .dataframe tbody tr th {\n",
       "        vertical-align: top;\n",
       "    }\n",
       "\n",
       "    .dataframe thead th {\n",
       "        text-align: right;\n",
       "    }\n",
       "</style>\n",
       "<table border=\"1\" class=\"dataframe\">\n",
       "  <thead>\n",
       "    <tr style=\"text-align: right;\">\n",
       "      <th></th>\n",
       "      <th>Month</th>\n",
       "      <th>DayOfWeek</th>\n",
       "      <th>Airline</th>\n",
       "      <th>Dest</th>\n",
       "      <th>Is_Delayed</th>\n",
       "    </tr>\n",
       "  </thead>\n",
       "  <tbody>\n",
       "    <tr>\n",
       "      <th>0</th>\n",
       "      <td>1</td>\n",
       "      <td>6</td>\n",
       "      <td>Delta Air Lines Inc.</td>\n",
       "      <td>BOS</td>\n",
       "      <td>Delayed</td>\n",
       "    </tr>\n",
       "    <tr>\n",
       "      <th>1</th>\n",
       "      <td>1</td>\n",
       "      <td>7</td>\n",
       "      <td>Delta Air Lines Inc.</td>\n",
       "      <td>BOS</td>\n",
       "      <td>Not_Delayed</td>\n",
       "    </tr>\n",
       "    <tr>\n",
       "      <th>2</th>\n",
       "      <td>1</td>\n",
       "      <td>1</td>\n",
       "      <td>Delta Air Lines Inc.</td>\n",
       "      <td>BOS</td>\n",
       "      <td>Delayed</td>\n",
       "    </tr>\n",
       "    <tr>\n",
       "      <th>3</th>\n",
       "      <td>1</td>\n",
       "      <td>4</td>\n",
       "      <td>Delta Air Lines Inc.</td>\n",
       "      <td>BOS</td>\n",
       "      <td>Not_Delayed</td>\n",
       "    </tr>\n",
       "    <tr>\n",
       "      <th>4</th>\n",
       "      <td>1</td>\n",
       "      <td>5</td>\n",
       "      <td>Delta Air Lines Inc.</td>\n",
       "      <td>BOS</td>\n",
       "      <td>Not_Delayed</td>\n",
       "    </tr>\n",
       "    <tr>\n",
       "      <th>...</th>\n",
       "      <td>...</td>\n",
       "      <td>...</td>\n",
       "      <td>...</td>\n",
       "      <td>...</td>\n",
       "      <td>...</td>\n",
       "    </tr>\n",
       "    <tr>\n",
       "      <th>999995</th>\n",
       "      <td>10</td>\n",
       "      <td>3</td>\n",
       "      <td>Delta Air Lines Inc.</td>\n",
       "      <td>IND</td>\n",
       "      <td>Not_Delayed</td>\n",
       "    </tr>\n",
       "    <tr>\n",
       "      <th>999996</th>\n",
       "      <td>10</td>\n",
       "      <td>4</td>\n",
       "      <td>Delta Air Lines Inc.</td>\n",
       "      <td>IND</td>\n",
       "      <td>Not_Delayed</td>\n",
       "    </tr>\n",
       "    <tr>\n",
       "      <th>999997</th>\n",
       "      <td>10</td>\n",
       "      <td>5</td>\n",
       "      <td>Delta Air Lines Inc.</td>\n",
       "      <td>IND</td>\n",
       "      <td>Not_Delayed</td>\n",
       "    </tr>\n",
       "    <tr>\n",
       "      <th>999998</th>\n",
       "      <td>10</td>\n",
       "      <td>6</td>\n",
       "      <td>Delta Air Lines Inc.</td>\n",
       "      <td>IND</td>\n",
       "      <td>Not_Delayed</td>\n",
       "    </tr>\n",
       "    <tr>\n",
       "      <th>999999</th>\n",
       "      <td>10</td>\n",
       "      <td>7</td>\n",
       "      <td>Delta Air Lines Inc.</td>\n",
       "      <td>IND</td>\n",
       "      <td>Not_Delayed</td>\n",
       "    </tr>\n",
       "  </tbody>\n",
       "</table>\n",
       "<p>1000000 rows × 5 columns</p>\n",
       "</div>"
      ],
      "text/plain": [
       "        Month  DayOfWeek               Airline Dest   Is_Delayed\n",
       "0           1          6  Delta Air Lines Inc.  BOS      Delayed\n",
       "1           1          7  Delta Air Lines Inc.  BOS  Not_Delayed\n",
       "2           1          1  Delta Air Lines Inc.  BOS      Delayed\n",
       "3           1          4  Delta Air Lines Inc.  BOS  Not_Delayed\n",
       "4           1          5  Delta Air Lines Inc.  BOS  Not_Delayed\n",
       "...       ...        ...                   ...  ...          ...\n",
       "999995     10          3  Delta Air Lines Inc.  IND  Not_Delayed\n",
       "999996     10          4  Delta Air Lines Inc.  IND  Not_Delayed\n",
       "999997     10          5  Delta Air Lines Inc.  IND  Not_Delayed\n",
       "999998     10          6  Delta Air Lines Inc.  IND  Not_Delayed\n",
       "999999     10          7  Delta Air Lines Inc.  IND  Not_Delayed\n",
       "\n",
       "[1000000 rows x 5 columns]"
      ]
     },
     "execution_count": 30,
     "metadata": {},
     "output_type": "execute_result"
    }
   ],
   "source": [
    "#Drop unnecessary columns\n",
    "#flights_df_segment = flights_data_segment.drop(['Origin', 'OriginCityName', 'DestCityName', 'Dest', 'Unnamed: 0', 'Cancelled', 'CarrierDelay', 'WeatherDelay', \"NASDelay\", 'SecurityDelay', 'LateAircraftDelay', 'FirstDepTime', 'CancellationCode'], axis=1)\n",
    "flights_data = flights_df.drop(['Year', 'DayofMonth', 'CRSDepTime', 'DepTime', 'DepDelayMinutes', 'CRSArrTime', 'ArrTime', 'CRSElapsedTime', 'ActualElapsedTime', 'CarrierDelay', 'WeatherDelay', 'NASDelay', 'SecurityDelay', 'LateAircraftDelay', 'Origin', 'OriginCityName', 'DestCityName', 'Unnamed: 0', 'Cancelled', 'FirstDepTime', 'CancellationCode'], axis=1)\n",
    "flights_data"
   ]
  },
  {
   "cell_type": "code",
   "execution_count": 31,
   "id": "211d0477",
   "metadata": {},
   "outputs": [],
   "source": [
    "df = pd.get_dummies(flights_data, columns=[\"Airline\", \"Dest\"])"
   ]
  },
  {
   "cell_type": "markdown",
   "id": "88daac96",
   "metadata": {},
   "source": [
    "### Splitting our data into training and testing sets"
   ]
  },
  {
   "cell_type": "code",
   "execution_count": 32,
   "id": "a6fd81b0",
   "metadata": {},
   "outputs": [],
   "source": [
    "# Create our features\n",
    "X = df.drop(columns=\"Is_Delayed\", axis=1) \n",
    "\n",
    "\n",
    "# Create our target\n",
    "y = flights_df[\"Is_Delayed\"]"
   ]
  },
  {
   "cell_type": "code",
   "execution_count": 33,
   "id": "fbc38b3a",
   "metadata": {},
   "outputs": [
    {
     "data": {
      "text/plain": [
       "Counter({'Delayed': 156946, 'Not_Delayed': 543054})"
      ]
     },
     "execution_count": 33,
     "metadata": {},
     "output_type": "execute_result"
    }
   ],
   "source": [
    "from sklearn.model_selection import train_test_split\n",
    "\n",
    "X_train, X_test, y_train, y_test = train_test_split(X,\n",
    "    y, random_state=1, test_size=0.3, stratify=y)\n",
    "Counter(y_train)"
   ]
  },
  {
   "cell_type": "markdown",
   "id": "a0a08383",
   "metadata": {},
   "source": [
    "### Oversampling training data"
   ]
  },
  {
   "cell_type": "code",
   "execution_count": 36,
   "id": "a983b09c",
   "metadata": {},
   "outputs": [
    {
     "data": {
      "text/plain": [
       "Counter({'Delayed': 543054, 'Not_Delayed': 543054})"
      ]
     },
     "execution_count": 36,
     "metadata": {},
     "output_type": "execute_result"
    }
   ],
   "source": [
    "from imblearn.over_sampling import RandomOverSampler\n",
    "ros = RandomOverSampler(random_state=1)\n",
    "X_resampled, y_resampled = ros.fit_resample(X_train, y_train)\n",
    "Counter(y_resampled)\n"
   ]
  },
  {
   "cell_type": "markdown",
   "id": "41bb05e8",
   "metadata": {},
   "source": [
    "### Scaling our data"
   ]
  },
  {
   "cell_type": "code",
   "execution_count": 40,
   "id": "183cd2f1",
   "metadata": {},
   "outputs": [],
   "source": [
    "from sklearn.preprocessing import StandardScaler\n",
    "\n",
    "# Creating a StandardScaler instance.\n",
    "scaler = StandardScaler()\n",
    "# Fitting the Standard Scaler with the training data.\n",
    "X_scaler = scaler.fit(X_resampled)\n",
    "\n",
    "# Scaling the data.\n",
    "X_train_scaled = X_scaler.transform(X_resampled)\n",
    "X_test_scaled = X_scaler.transform(X_test)"
   ]
  },
  {
   "cell_type": "markdown",
   "id": "e90a6ed1",
   "metadata": {},
   "source": [
    "### Applying Logistic Regression model "
   ]
  },
  {
   "cell_type": "code",
   "execution_count": 41,
   "id": "5c7f555a",
   "metadata": {
    "scrolled": true
   },
   "outputs": [
    {
     "data": {
      "text/plain": [
       "LogisticRegression(random_state=1)"
      ]
     },
     "execution_count": 41,
     "metadata": {},
     "output_type": "execute_result"
    }
   ],
   "source": [
    "\n",
    "from sklearn.linear_model import LogisticRegression\n",
    "model = LogisticRegression(solver='lbfgs', random_state=1)\n",
    "model.fit(X_train_scaled, y_resampled)\n"
   ]
  },
  {
   "cell_type": "markdown",
   "id": "6e4a0750",
   "metadata": {},
   "source": [
    "### Making predictions and Checking Accuracy"
   ]
  },
  {
   "cell_type": "code",
   "execution_count": 42,
   "id": "79c08e53",
   "metadata": {},
   "outputs": [
    {
     "data": {
      "text/plain": [
       "0.5870025387730418"
      ]
     },
     "execution_count": 42,
     "metadata": {},
     "output_type": "execute_result"
    }
   ],
   "source": [
    "\n",
    "from sklearn.metrics import balanced_accuracy_score\n",
    "y_pred = model.predict(X_test_scaled)\n",
    "balanced_accuracy_score(y_test, y_pred)"
   ]
  },
  {
   "cell_type": "code",
   "execution_count": 43,
   "id": "6b944d84",
   "metadata": {},
   "outputs": [
    {
     "name": "stderr",
     "output_type": "stream",
     "text": [
      "C:\\Users\\Montse\\anaconda3\\envs\\mlenv\\lib\\site-packages\\sklearn\\base.py:442: UserWarning: X does not have valid feature names, but EasyEnsembleClassifier was fitted with feature names\n",
      "  \"X does not have valid feature names, but\"\n"
     ]
    },
    {
     "data": {
      "text/plain": [
       "array([[ 67262,      0],\n",
       "       [232738,      0]], dtype=int64)"
      ]
     },
     "execution_count": 43,
     "metadata": {},
     "output_type": "execute_result"
    }
   ],
   "source": [
    "\n",
    "#from sklearn.metrics import balanced_accuracy_score\n",
    "#from sklearn.metrics import confusion_matrix\n",
    "\n",
    "# Display the confusion matrix\n",
    "y_pred = eec.predict(X_test_scaled)\n",
    "confusion_matrix(y_test, y_pred)"
   ]
  }
 ],
 "metadata": {
  "kernelspec": {
   "display_name": "mlenv",
   "language": "python",
   "name": "mlenv"
  },
  "language_info": {
   "codemirror_mode": {
    "name": "ipython",
    "version": 3
   },
   "file_extension": ".py",
   "mimetype": "text/x-python",
   "name": "python",
   "nbconvert_exporter": "python",
   "pygments_lexer": "ipython3",
   "version": "3.7.13"
  }
 },
 "nbformat": 4,
 "nbformat_minor": 5
}
