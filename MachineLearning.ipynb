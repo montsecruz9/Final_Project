{
  "nbformat": 4,
  "nbformat_minor": 0,
  "metadata": {
    "colab": {
      "provenance": [],
      "authorship_tag": "ABX9TyPAXbE614skzprRXkrlTK3m",
      "include_colab_link": true
    },
    "kernelspec": {
      "name": "python3",
      "display_name": "Python 3"
    },
    "language_info": {
      "name": "python"
    }
  },
  "cells": [
    {
      "cell_type": "markdown",
      "metadata": {
        "id": "view-in-github",
        "colab_type": "text"
      },
      "source": [
        "<a href=\"https://colab.research.google.com/github/montsecruz9/Final_Project/blob/MachineLearningMockupBranch/MachineLearning.ipynb\" target=\"_parent\"><img src=\"https://colab.research.google.com/assets/colab-badge.svg\" alt=\"Open In Colab\"/></a>"
      ]
    },
    {
      "cell_type": "code",
      "source": [
        "# Import dependencies"
      ],
      "metadata": {
        "id": "sJELVnECpGG_"
      },
      "execution_count": null,
      "outputs": []
    },
    {
      "cell_type": "code",
      "execution_count": null,
      "metadata": {
        "id": "H3wfNVz2cAJg"
      },
      "outputs": [],
      "source": [
        "# Features and target arrays\n",
        "y = flights_df.IS_DELAYED\n",
        "X = flights_df.drop(columns=[\"IS_DELAYED\"])"
      ]
    },
    {
      "cell_type": "code",
      "source": [
        "# Split the preprocessed data into a training and testing dataset\n",
        "# CODE"
      ],
      "metadata": {
        "id": "S-sk-qayeE2T"
      },
      "execution_count": null,
      "outputs": []
    },
    {
      "cell_type": "code",
      "source": [
        "# MACHINE LEARNING MODEL CONNECTED TO PROVISIONAL POSTGRES DATABASE\n",
        "# CODE"
      ],
      "metadata": {
        "id": "4aU4nLKbh5Vj"
      },
      "execution_count": null,
      "outputs": []
    },
    {
      "cell_type": "code",
      "source": [
        "# Define the model - Random Forest Classifier\n",
        "\n",
        "# Create the architecture of the model\n",
        "\n",
        "# Check the structure of the model\n"
      ],
      "metadata": {
        "id": "lHTWHFLcdfHf"
      },
      "execution_count": null,
      "outputs": []
    },
    {
      "cell_type": "code",
      "source": [
        "# Compile the model\n",
        "\n",
        "# Train the model\n",
        "\n",
        "# Evaluate the model using the test data"
      ],
      "metadata": {
        "id": "Eo_-cFJyf_7z"
      },
      "execution_count": null,
      "outputs": []
    },
    {
      "cell_type": "code",
      "source": [],
      "metadata": {
        "id": "Abe1ScgEfyV8"
      },
      "execution_count": null,
      "outputs": []
    }
  ]
}